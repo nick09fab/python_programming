{
 "cells": [
  {
   "cell_type": "code",
   "execution_count": 1,
   "metadata": {},
   "outputs": [],
   "source": [
    "# import python modules\n",
    "import pandas as pd\n",
    "import numpy as np\n",
    "import matplotlib.pyplot as plt\n",
    "import seaborn as sns\n",
    "sns.set()\n",
    "\n",
    "import time"
   ]
  },
  {
   "cell_type": "code",
   "execution_count": 2,
   "metadata": {},
   "outputs": [
    {
     "data": {
      "text/html": [
       "<div>\n",
       "<style scoped>\n",
       "    .dataframe tbody tr th:only-of-type {\n",
       "        vertical-align: middle;\n",
       "    }\n",
       "\n",
       "    .dataframe tbody tr th {\n",
       "        vertical-align: top;\n",
       "    }\n",
       "\n",
       "    .dataframe thead th {\n",
       "        text-align: right;\n",
       "    }\n",
       "</style>\n",
       "<table border=\"1\" class=\"dataframe\">\n",
       "  <thead>\n",
       "    <tr style=\"text-align: right;\">\n",
       "      <th></th>\n",
       "      <th>x</th>\n",
       "      <th>y</th>\n",
       "    </tr>\n",
       "  </thead>\n",
       "  <tbody>\n",
       "    <tr>\n",
       "      <th>0</th>\n",
       "      <td>1</td>\n",
       "      <td>0.5</td>\n",
       "    </tr>\n",
       "    <tr>\n",
       "      <th>1</th>\n",
       "      <td>2</td>\n",
       "      <td>1.0</td>\n",
       "    </tr>\n",
       "    <tr>\n",
       "      <th>2</th>\n",
       "      <td>4</td>\n",
       "      <td>2.0</td>\n",
       "    </tr>\n",
       "    <tr>\n",
       "      <th>3</th>\n",
       "      <td>0</td>\n",
       "      <td>0.0</td>\n",
       "    </tr>\n",
       "    <tr>\n",
       "      <th>4</th>\n",
       "      <td>1</td>\n",
       "      <td>2.0</td>\n",
       "    </tr>\n",
       "    <tr>\n",
       "      <th>5</th>\n",
       "      <td>3</td>\n",
       "      <td>1.0</td>\n",
       "    </tr>\n",
       "    <tr>\n",
       "      <th>6</th>\n",
       "      <td>2</td>\n",
       "      <td>0.5</td>\n",
       "    </tr>\n",
       "    <tr>\n",
       "      <th>7</th>\n",
       "      <td>4</td>\n",
       "      <td>2.0</td>\n",
       "    </tr>\n",
       "    <tr>\n",
       "      <th>8</th>\n",
       "      <td>5</td>\n",
       "      <td>3.0</td>\n",
       "    </tr>\n",
       "    <tr>\n",
       "      <th>9</th>\n",
       "      <td>6</td>\n",
       "      <td>4.0</td>\n",
       "    </tr>\n",
       "  </tbody>\n",
       "</table>\n",
       "</div>"
      ],
      "text/plain": [
       "   x    y\n",
       "0  1  0.5\n",
       "1  2  1.0\n",
       "2  4  2.0\n",
       "3  0  0.0\n",
       "4  1  2.0\n",
       "5  3  1.0\n",
       "6  2  0.5\n",
       "7  4  2.0\n",
       "8  5  3.0\n",
       "9  6  4.0"
      ]
     },
     "execution_count": 2,
     "metadata": {},
     "output_type": "execute_result"
    }
   ],
   "source": [
    "df = pd.DataFrame({'x':[1,2,4,0,1,3,2,4,5,6],'y':[0.5,1,2,0,2,1,0.5,2,3,4]})\n",
    "df"
   ]
  },
  {
   "cell_type": "code",
   "execution_count": 3,
   "metadata": {},
   "outputs": [
    {
     "data": {
      "text/plain": [
       "<matplotlib.collections.PathCollection at 0x7f6384335670>"
      ]
     },
     "execution_count": 3,
     "metadata": {},
     "output_type": "execute_result"
    },
    {
     "data": {
      "image/png": "[encoded data removed]",
      "text/plain": [
       "<Figure size 432x288 with 1 Axes>"
      ]
     },
     "metadata": {
      "needs_background": "light"
     },
     "output_type": "display_data"
    }
   ],
   "source": [
    "plt.scatter(df['x'],df['y'])"
   ]
  },
  {
   "cell_type": "code",
   "execution_count": null,
   "metadata": {},
   "outputs": [],
   "source": [
    "class math_linear_regression:\n",
    "    def __init__(self) -> None:\n",
    "        pass\n",
    "    \n",
    "    def linear(self,X,b0,b1):\n",
    "        return [b0+b1*x for x in X]\n",
    "\n",
    "    def intercept(self,X,y,b1):\n",
    "        x_ = np.mean(X)\n",
    "        y_ = np.mean(y)\n",
    "        \n",
    "        return y_-(b1*x_)\n",
    "\n",
    "    # b1 - Slope\n",
    "    def slope(self,X, Y):\n",
    "        x_ = np.mean(X)\n",
    "        y_ = np.mean(Y)\n",
    "        \n",
    "        rise = sum([(x-x_) * (y-y_) for x,y in zip(X,Y)])\n",
    "        run = sum([(x-x_)**2 for x,y in zip(X,Y)])\n",
    "        \n",
    "        return rise / run\n",
    "\n",
    "    # b1 - Slope\n",
    "    def slope(self,X, Y):\n",
    "        x_ = np.mean(X)\n",
    "        y_ = np.mean(Y)\n",
    "        \n",
    "        rise = sum([(x-x_) * (y-y_) for x,y in zip(X,Y)])\n",
    "        run = sum([(x-x_)**2 for x,y in zip(X,Y)])\n",
    "        \n",
    "        return rise / run\n",
    "\n",
    "    def predictor(self):\n",
    "        predictor ,target = df['x'], df['y']\n",
    "        b1 = self.slope(predictor, target)\n",
    "        b0 = self.intercept(predictor, target, b1)\n",
    "        predicted = self.linear(predictor, b0, b1)\n",
    "        print(predicted)\n",
    "\n",
    "        plt.figure(figsize = (8, 5))\n",
    "        plt.plot(predictor, predicted, color = '#f25f5c')\n",
    "        plt.scatter(predictor, predicted, color = '#f25f5c')\n",
    "        plt.title('Predicted values by Linear Regression', fontsize = 15)\n",
    "        plt.xlabel('engine-size')\n",
    "        plt.ylabel('price')\n",
    "        plt.scatter(predictor, target, color = \"#247ba0\")\n",
    "        plt.show()\n",
    "\n",
    "        print(\"Coefficients:\\n=============\")\n",
    "        print(\"b0 : \", b0)\n",
    "        print(\"b1 : \", b1)"
   ]
  },
  {
   "cell_type": "code",
   "execution_count": 9,
   "metadata": {},
   "outputs": [],
   "source": [
    "class LinearRegression:\n",
    "    def __init__(self,x,y):\n",
    "        self.data = x\n",
    "        self.label = y\n",
    "        self.m = 0 #slope\n",
    "        self.b = 0 # bias\n",
    "        self.n = len(x)\n",
    "        \n",
    "    def fit(self, epochs, lr):\n",
    "        #implementing Gradient descent\n",
    "        for i in range(epochs):\n",
    "            y_pred = (self.m * self.data)+ self.b #y=mx+b=b0+b1.x\n",
    "            \n",
    "            #Calculating derivatives w.r.t parameters\n",
    "            D_m = (-2/self.n)*np.sum(self.data * (self.label - y_pred))\n",
    "            D_b = (-2/self.n)*np.sum(self.label - y_pred )\n",
    "\n",
    "            #Updating parameters\n",
    "            self.m = self.m - (lr * D_m)\n",
    "            self.b = self.b - (lr * D_b)\n",
    "            \n",
    "    def predict(self, inp):\n",
    "        return self.m * inp + self.b "
   ]
  },
  {
   "cell_type": "code",
   "execution_count": 10,
   "metadata": {},
   "outputs": [
    {
     "data": {
      "image/png": "[encoded data removed]",
      "text/plain": [
       "<Figure size 720x432 with 1 Axes>"
      ]
     },
     "metadata": {
      "needs_background": "light"
     },
     "output_type": "display_data"
    }
   ],
   "source": [
    "import matplotlib.pyplot as plt\n",
    "\n",
    "#Preparing the data\n",
    "x = np.array(df.iloc[:,0])\n",
    "y = np.array(df.iloc[:,1])\n",
    "\n",
    "#creating class object\n",
    "reg = LinearRegression(x,y)\n",
    "\n",
    "#Training the model with .fit method\n",
    "reg.fit(1000,0.0001)\n",
    "\n",
    "#Prediciting the values\n",
    "y_pred = reg.predict(x)\n",
    " \n",
    "#Plotting the results\n",
    "plt.figure(figsize = (10,6))\n",
    "plt.scatter(x,y , color = 'green')\n",
    "plt.plot(x , y_pred , color = 'k' , lw = 3)\n",
    "plt.xlabel('x' , size = 20)\n",
    "plt.ylabel('y', size = 20)\n",
    "plt.show()"
   ]
  }
 ],
 "metadata": {
  "kernelspec": {
   "display_name": "Python 3",
   "language": "python",
   "name": "python3"
  },
  "language_info": {
   "codemirror_mode": {
    "name": "ipython",
    "version": 3
   },
   "file_extension": ".py",
   "mimetype": "text/x-python",
   "name": "python",
   "nbconvert_exporter": "python",
   "pygments_lexer": "ipython3",
   "version": "3.8.10"
  },
  "orig_nbformat": 4,
  "vscode": {
   "interpreter": {
    "hash": "916dbcbb3f70747c44a77c7bcd40155683ae19c65e1c03b4aa3499c5328201f1"
   }
  }
 },
 "nbformat": 4,
 "nbformat_minor": 2
}
